{
  "nbformat": 4,
  "nbformat_minor": 0,
  "metadata": {
    "colab": {
      "provenance": [],
      "collapsed_sections": []
    },
    "kernelspec": {
      "name": "python3",
      "display_name": "Python 3"
    },
    "language_info": {
      "name": "python"
    }
  },
  "cells": [
    {
      "cell_type": "code",
      "execution_count": 6,
      "metadata": {
        "colab": {
          "base_uri": "https://localhost:8080/"
        },
        "id": "EeLj2Awo-j80",
        "outputId": "d2d62fc9-7195-4517-dbc2-175408f4dcc9"
      },
      "outputs": [
        {
          "output_type": "stream",
          "name": "stdout",
          "text": [
            "   sepal_width  sepal_length  petal_width  petal_length  class\n",
            "0          5.6           3.0          4.1           1.3      0\n",
            "1          5.4           3.9          1.7           0.4      1\n",
            "2          5.6           3.0          4.5           1.5      0\n",
            "3          5.0           3.5          1.6           0.6      1\n",
            "4          5.5           2.4          3.7           1.0      0\n"
          ]
        }
      ],
      "source": [
        "import numpy as np\n",
        "import pandas as pd\n",
        "import numpy.matlib\n",
        "import matplotlib.pyplot as plt\n",
        "\n",
        "\n",
        "df = pd.read_csv(\"shuffled_2class_iris_dataset.csv\")\n",
        "print(df.head())\n",
        "\n",
        "df = df.values\n",
        "X = df[:,0:4]   \n",
        "y = df[:,4]     \n",
        "\n",
        "\n",
        "diff = X.max(0) - X.min(0)\n",
        "X = X - diff\n",
        "\n",
        "\n",
        "train_data = X[0:90,0:4]; train_label = y[0:90]\n",
        "test_data = X[90:100,0:4]; test_label = y[90:100]"
      ]
    },
    {
      "cell_type": "code",
      "source": [
        "zz = np.ones((len(test_data),1))\n",
        "test_data = np.concatenate((zz,test_data), axis=1)  \n",
        "\n",
        "np.random.seed(1)"
      ],
      "metadata": {
        "id": "qZJkcg1S-wCR"
      },
      "execution_count": 7,
      "outputs": []
    },
    {
      "cell_type": "code",
      "source": [
        "nu = 0.01\n",
        "MAX_EPOCHS = 2000\n",
        "J_vec = []\n",
        "\n",
        "\n",
        "zz = np.ones((len(train_data),1))\n",
        "X_train = np.concatenate((zz,train_data), axis=1)\n",
        "y_train = train_label.reshape(len(train_label),1)  \n",
        "w = np.random.rand(5,1)\n",
        "w0 = w[0]; w1 = w[1]; w2 = w[2]; w3 = w[3]; w4 = w[4]\n",
        "N = len(y_train)\n",
        "\n",
        "for itr in range (0, MAX_EPOCHS):\n",
        "    for i in range(0,len(X_train)):\n",
        "        sigma = 1/(1+(np.exp(-(w0*X_train[i][0] + w1*X_train[i][1] + w2*X_train[i][2] + w3*X_train[i][3] + w4*X_train[i][4]))))\n",
        "\n",
        "        w0 = w0 - nu * (sum((sigma - y_train[i])*X_train[i][0]))/N\n",
        "        w1 = w1 - nu * (sum((sigma - y_train[i])*X_train[i][1]))/N\n",
        "        w2 = w2 - nu * (sum((sigma - y_train[i])*X_train[i][2]))/N\n",
        "        w3 = w3 - nu * (sum((sigma - y_train[i])*X_train[i][3]))/N\n",
        "        w4 = w4 - nu * (sum((sigma - y_train[i])*X_train[i][4]))/N        \n",
        "   \n",
        "        J = -(sum((y_train[i]*np.log(sigma))+((1-y_train[i])*np.log(1 - sigma))))\n",
        "    \n",
        "    J_vec.append(J)   \n",
        "    \n",
        "  \n",
        "plt.plot(J_vec)\n",
        "plt.xlabel('Epochs')\n",
        "plt.ylabel('cost function')\n",
        "plt.show()"
      ],
      "metadata": {
        "colab": {
          "base_uri": "https://localhost:8080/",
          "height": 279
        },
        "id": "LPNOt8vh-x4C",
        "outputId": "ff9a4891-8373-447c-b6be-dbdffd10062f"
      },
      "execution_count": 8,
      "outputs": [
        {
          "output_type": "display_data",
          "data": {
            "text/plain": [
              "<Figure size 432x288 with 1 Axes>"
            ],
            "image/png": "[encoded data removed]"
          },
          "metadata": {
            "needs_background": "light"
          }
        }
      ]
    },
    {
      "cell_type": "code",
      "source": [
        "correct_class_cnt = 0\n",
        "for i in range (0, len(test_data)):\n",
        "    \n",
        "    sigma = 1/(1+(np.exp(-(w0*test_data[i][0] + w1*test_data[i][1] + w2*test_data[i][2] + w3*test_data[i][3] + w4*test_data[i][4]))))\n",
        "    \n",
        "    if sigma <0.5:\n",
        "        y_hat = 0.0\n",
        "    else:\n",
        "        y_hat = 1.0\n",
        "\n",
        "    \n",
        "    print('y={}, y_hat={}'.format(test_label[i], y_hat))\n",
        "    if (y_hat == test_label[i]):\n",
        "        correct_class_cnt += 1\n",
        "\n",
        "print('Average accuracy = {0:2f}'.format(correct_class_cnt/10))"
      ],
      "metadata": {
        "colab": {
          "base_uri": "https://localhost:8080/"
        },
        "id": "-UILD8Ld-6_p",
        "outputId": "f45892a6-70c3-448c-cf92-624cd607a2dc"
      },
      "execution_count": 9,
      "outputs": [
        {
          "output_type": "stream",
          "name": "stdout",
          "text": [
            "y=1.0, y_hat=1.0\n",
            "y=1.0, y_hat=1.0\n",
            "y=0.0, y_hat=0.0\n",
            "y=1.0, y_hat=1.0\n",
            "y=0.0, y_hat=0.0\n",
            "y=1.0, y_hat=1.0\n",
            "y=0.0, y_hat=0.0\n",
            "y=0.0, y_hat=0.0\n",
            "y=0.0, y_hat=0.0\n",
            "y=1.0, y_hat=1.0\n",
            "Average accuracy = 1.000000\n"
          ]
        }
      ]
    },
    {
      "cell_type": "code",
      "source": [],
      "metadata": {
        "id": "ErS7Cz00_ACW"
      },
      "execution_count": null,
      "outputs": []
    }
  ]
}